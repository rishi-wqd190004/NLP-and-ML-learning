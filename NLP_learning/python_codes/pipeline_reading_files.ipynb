{
 "cells": [
  {
   "cell_type": "code",
   "execution_count": 3,
   "metadata": {},
   "outputs": [],
   "source": [
    "import tensorflow as tf\n",
    "import numpy as np\n",
    "import os"
   ]
  },
  {
   "cell_type": "code",
   "execution_count": null,
   "metadata": {},
   "outputs": [],
   "source": [
    "# defining a graph object\n",
    "graph = tf.Graph()\n",
    "session = tf.compat.v1.InteractiveSession(graph=graph) # creates the session\n",
    "\n",
    "# calling filename queue\n",
    "filenames = ['test%d.txt' %i for i in range(1,4)]\n",
    "#tf.compat.v1.train.string_input_producer()_ is depricated as per the documents hence be careful and use\n",
    "filename_queue = tf.data.Dataset.from_tensor_slices(filenames).shuffle(3, reshuffle_each_iteration=True)\n",
    "for elem in filename_queue:\n",
    "    print(elem.numpy())\n",
    "    if not tf.io.gfile.exists(elem):\n",
    "        raise ValueError('Failed to find file: ' + elem)\n",
    "    else:\n",
    "        print('File %s found.'%elem)"
   ]
  },
  {
   "cell_type": "code",
   "execution_count": null,
   "metadata": {},
   "outputs": [],
   "source": []
  }
 ],
 "metadata": {
  "kernelspec": {
   "display_name": "Python 3",
   "language": "python",
   "name": "python3"
  },
  "language_info": {
   "codemirror_mode": {
    "name": "ipython",
    "version": 3
   },
   "file_extension": ".py",
   "mimetype": "text/x-python",
   "name": "python",
   "nbconvert_exporter": "python",
   "pygments_lexer": "ipython3",
   "version": "3.8.6"
  }
 },
 "nbformat": 4,
 "nbformat_minor": 4
}
